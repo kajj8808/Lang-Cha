{
 "cells": [
  {
   "cell_type": "code",
   "execution_count": 5,
   "metadata": {},
   "outputs": [
    {
     "data": {
      "text/plain": [
       "'태양계 행성은 총 8개가 있습니다. 이는 수성, 금성, 지구, 화성, 목성, 토성, 천왕성, 해왕성입니다.하지만 명왕성은 2006년에 왜곡체로 지정되어 행성에서 제외되었습니다.'"
      ]
     },
     "execution_count": 5,
     "metadata": {},
     "output_type": "execute_result"
    }
   ],
   "source": [
    "### LLM(Large language model) 호출\n",
    "from langchain.llms import OpenAI # text-davinci-003\n",
    "from langchain.chat_models import ChatOpenAI # gpt-3.5-turbo\n",
    "\n",
    "# llm = OpenAI()\n",
    "# result = llm.predict(\"태양계 행성은 총 몇개가 있어?\")\n",
    "\n",
    "# temperature=> 얼마나 창의적 + 무작위적 으로 하는가에 대한 수치 높을 수록 더 창의적 이고 무작위 적으로 생성됨.\n",
    "chat = ChatOpenAI(temperature=0.1)\n",
    "result = chat.predict(\"태양계 행성은 총 몇개가 있어?\")\n",
    "\n",
    "result"
   ]
  },
  {
   "cell_type": "code",
   "execution_count": 8,
   "metadata": {},
   "outputs": [
    {
     "data": {
      "text/plain": [
       "AIMessage(content='멕시코와 태국 사이의 직선 거리는 약 15,000km 정도입니다. 제 이름은 파올로입니다.')"
      ]
     },
     "execution_count": 8,
     "metadata": {},
     "output_type": "execute_result"
    }
   ],
   "source": [
    "# Predict Messages\n",
    "from langchain.schema import HumanMessage, AIMessage, SystemMessage\n",
    "\n",
    "messages = [\n",
    "    SystemMessage(content=\"당신은 지리 전문가입니다. 그리고 당신은 한글으로만 답변합니다.\"),\n",
    "    AIMessage(content=\"안녕하세요, 제 이름은 파올로입니다!\"),\n",
    "    HumanMessage(content=\"멕시코와 태국 사이의 거리는 어느정도 되나요? 그리고 당신의 이름은 무엇인가요?\")\n",
    "]\n",
    "chat.predict_messages(messages)\n"
   ]
  },
  {
   "cell_type": "code",
   "execution_count": 10,
   "metadata": {},
   "outputs": [
    {
     "data": {
      "text/plain": [
       "AIMessage(content='일본과 한국 사이의 거리는 대략 900km입니다. 제 이름은 무뮤식입니다.')"
      ]
     },
     "execution_count": 10,
     "metadata": {},
     "output_type": "execute_result"
    }
   ],
   "source": [
    "# Prompt Templates\n",
    "from langchain.prompts import PromptTemplate, ChatPromptTemplate\n",
    "from langchain.chat_models import ChatOpenAI\n",
    "\n",
    "chat = ChatOpenAI(temperature=0.1)\n",
    "\n",
    "template = PromptTemplate.from_template(\n",
    "    \"What is the distance between {country_a} and {country_b}\")\n",
    "\n",
    "prompt = template.format(country_a=\"Korea\", country_b=\"Japan\")\n",
    "# chat.predict(prompt)\n",
    "\n",
    "template = ChatPromptTemplate.from_messages([\n",
    "    (\"system\",\n",
    "     \"You are a geography expert. And you only reply in {language}.\"),\n",
    "    (\"ai\", \"Hello, my name is {name}\"),\n",
    "    (\"human\",\n",
    "     \"What is the distamce between {country_a} and {country_b}. Also, what is your name?\")\n",
    "])\n",
    "\n",
    "prompt = template.format_messages(\n",
    "    language=\"Korea\",\n",
    "    name=\"mumusic\",\n",
    "    country_a=\"Japan\",\n",
    "    country_b=\"Korea\",\n",
    ")\n",
    "chat.predict_messages(prompt)"
   ]
  },
  {
   "cell_type": "markdown",
   "metadata": {},
   "source": [
    "# OutputParser and LCEL\n",
    "### 사용하는 이유\n",
    "- LLM의 응답을 변형해야 할 떄가 있기 떄문임.\n",
    "- LLM은 항상 텍스트로만 응답하기에 응답을 변환 시켜주는 로직이 필요함."
   ]
  },
  {
   "cell_type": "code",
   "execution_count": 30,
   "metadata": {},
   "outputs": [
    {
     "data": {
      "text/plain": [
       "['\"baby pink\"', '\"mint green\"', '\"lavender\"', '\"peach\"', '\"sky blue\"']"
      ]
     },
     "execution_count": 30,
     "metadata": {},
     "output_type": "execute_result"
    }
   ],
   "source": [
    "# OutputParser and LCEL\n",
    "from langchain.chat_models import ChatOpenAI\n",
    "from langchain.schema import BaseOutputParser  # base class 같은거임. 변형해서 사용 가능함.\n",
    "\n",
    "\n",
    "class CommaOutputParser(BaseOutputParser):\n",
    "    def parse(self, text):\n",
    "        # strip => 공백 제거\n",
    "        items = text.split(\",\")\n",
    "        return list(map(str.strip, items))\n",
    "\n",
    "\n",
    "parser = CommaOutputParser()\n",
    "parser.parse(\"a, b, c \")\n",
    "\n",
    "template = ChatPromptTemplate.from_messages([\n",
    "    (\"system\",\n",
    "     \"당신은 list 생성 기계 입니다. 입력받은 질문들은 모두 comma seperated list로 답해주세요. 최대{max_items}만큼요. 전부다 소문자로 반환해주세요. list가 아닌 것으로는 답을 하지 마세요.\"),\n",
    "    (\"human\", \"{question}\")\n",
    "])\n",
    "\n",
    "prompt = template.format_messages(\n",
    "    max_items=3, question=\"디자인에 사용할만한 파스텔 색상을 알려주세요!\")\n",
    "# chat = ChatOpenAI(model=\"gpt-4\" , temperature=0.1)\n",
    "chat.predict_messages(prompt)\n",
    "\n",
    "# -> 방향으로 return 값이 가서 마지막 값이 반환됨! chain!!\n",
    "chain = template | chat | CommaOutputParser()\n",
    "chain.invoke({\n",
    "    \"max_items\":  5,\n",
    "    \"question\": \"디자인에 사용할만한 파스텔 색상을 알려주세요!\"\n",
    "})"
   ]
  }
 ],
 "metadata": {
  "kernelspec": {
   "display_name": "Python 3",
   "language": "python",
   "name": "python3"
  },
  "language_info": {
   "codemirror_mode": {
    "name": "ipython",
    "version": 3
   },
   "file_extension": ".py",
   "mimetype": "text/x-python",
   "name": "python",
   "nbconvert_exporter": "python",
   "pygments_lexer": "ipython3",
   "version": "3.10.12"
  }
 },
 "nbformat": 4,
 "nbformat_minor": 2
}
