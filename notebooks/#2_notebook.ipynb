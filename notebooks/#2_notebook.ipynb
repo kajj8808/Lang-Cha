{
 "cells": [
  {
   "cell_type": "markdown",
   "metadata": {},
   "source": [
    "# 2.5 Virtual Environment\n",
    "- Virtual Environment가 필요한 이유로 컴퓨터의 서로 다른 프로젝트들 사이에서 문제없이 사용하기 위해서임.\n",
    "- 만약 없다면 이전 버전을 사용하고 있는 프로젝트 1을 작업하고 있을 때 새로운 버전을 사용하는 프로젝트 2를 작업을 못하게 될 수 있음.. ( 패키지의 버전이 달라 함수 이름이 변경될 수도 있고, 사용처가 바뀔 수도 주는 값이 바뀔 수도 있기 때문. )\n",
    "- 만약 있다면, 영역을 나눠서 문제없이 작업을 계속 이어 갈 수 있음. ( 구역을 나눌 수 있음. )\n",
    "\n",
    "### 만드는 방법\n",
    "- python 3.3 이상 버전의 경우 venv을 사용해서 간단하게 만들 수 있음.\n",
    "- `python -m venv [VM이 생성될 폴더 위치 -> ./env ]`\n",
    "- `source env/bin/activate` ( 활성화 | 접속 )\n",
    "\n",
    "### 패키지 설치 방법\n",
    "- 사용할 패키지가 정해져 있지 않는 경우 가상 환경에 접속 후 설치해주면 됨.\n",
    "- 만약 정해져 있다면. requirements.txt 파일을 만들고, 사용할 패키지,버전을 작성해 준다음, `pip install -r requirements.txt` 를 실행.\n",
    "\n",
    "### vscode .py 파일에서 자동 완성을 활성화 하는 방법\n",
    "- main.py 같은 파일을 열고 우측 하단의 파이썬 버전에서 VM폴더를 골라 주기만 하면 됨 (❁´◡`❁)\n",
    "\n",
    "### 가상 환경에서 나가고 싶을 경우\n",
    "- `deactivate` ( 비활성화 | 접속 해제 )"
   ]
  },
  {
   "cell_type": "code",
   "execution_count": 1,
   "metadata": {},
   "outputs": [
    {
     "name": "stdout",
     "output_type": "stream",
     "text": [
      "<module 'tiktoken' from '/home/kajj8808/.local/lib/python3.10/site-packages/tiktoken/__init__.py'>\n"
     ]
    }
   ],
   "source": [
    "# 설치 잘 되어 있는지 확인 ( test code )\n",
    "import tiktoken\n",
    "\n",
    "print(tiktoken)"
   ]
  },
  {
   "cell_type": "markdown",
   "metadata": {},
   "source": [
    "# 2.6 Jupyter Notebooks \n",
    "\n",
    "### 커널 설정\n",
    "- 가상 환경을 사용할 경우 가상환경 경로를 찾아서 사용하면 가능함.\n",
    "\n",
    "### 특징\n",
    "- 같은 `notebook` 안에 있으면 `memory`에 실행된 부분이 남아있어서 다른 cell(code) 에서도 사용된 변수, import 된 부분 을 사용 가능함.\n",
    "\n",
    "### 알아두면 좋을점(?) \n",
    "- keyboard shortcut을 알아두자!\n",
    "    - ESC: \"셀 편집 모드\"에서 \"셀 선택 모드\"로 전환\n",
    "    - ENTER: 선택된 셀 편집하기(커서 생성)\n",
    "    - CTRL+ENTER: 현재 셀 코드 실행하기\n",
    "    - SHIFT+ENTER: 셀 실행한 뒤 새로운 셀 생성하기\n",
    "    - D D: 선택된 셀 삭제하기\n",
    "    - A / B: 위로(A) 혹은 아래로(B) 새로운 셀 생성하기"
   ]
  }
 ],
 "metadata": {
  "kernelspec": {
   "display_name": "Python 3",
   "language": "python",
   "name": "python3"
  },
  "language_info": {
   "codemirror_mode": {
    "name": "ipython",
    "version": 3
   },
   "file_extension": ".py",
   "mimetype": "text/x-python",
   "name": "python",
   "nbconvert_exporter": "python",
   "pygments_lexer": "ipython3",
   "version": "3.10.12"
  }
 },
 "nbformat": 4,
 "nbformat_minor": 2
}
